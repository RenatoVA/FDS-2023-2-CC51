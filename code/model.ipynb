{
 "cells": [
  {
   "cell_type": "code",
   "execution_count": 636,
   "metadata": {},
   "outputs": [],
   "source": [
    "import pandas as pd\n",
    "import numpy as np\n",
    "from sklearn.model_selection import train_test_split\n",
    "from sklearn.ensemble import RandomForestRegressor\n",
    "from sklearn.metrics import mean_squared_error\n",
    "from sklearn.preprocessing import MinMaxScaler, StandardScaler"
   ]
  },
  {
   "cell_type": "code",
   "execution_count": 546,
   "metadata": {},
   "outputs": [],
   "source": [
    "df=pd.read_csv('../data/preprocessed_data.csv',index_col=False)"
   ]
  },
  {
   "cell_type": "code",
   "execution_count": 547,
   "metadata": {},
   "outputs": [],
   "source": [
    "df = pd.get_dummies(df, columns=['state'], prefix='state')"
   ]
  },
  {
   "cell_type": "code",
   "execution_count": 619,
   "metadata": {},
   "outputs": [],
   "source": [
    "x = df[['views', 'dislikes', 'comment_count', 'title_polarity', 'description_polarity', 'category_1', 'category_2', 'category_10', 'category_15', 'category_17', 'category_19', 'category_20', 'category_22', 'category_23', 'category_24', 'category_25', 'category_26', 'category_27', 'category_28', 'category_29', 'category_30', 'category_43', 'category_44',\"state_Baden Wurttemberg\",\"state_Bayern\",\"state_Berlin\",\"state_Brandenburg\",\"state_Bremen\",\"state_Hamburg\",\"state_Hessen\",\"state_Mecklenburg Vorpommern\",\"state_Niedersachsen\",\"state_Nordrhein Westfalen\",\"state_Rheinland Pfalz\",\"state_Saarland\",\"state_Sachsen\",\"state_Sachsen Anhalt\",\"state_Schleswig Holstein\",\"state_Thuringen\"]]\n",
    "y = df[[\"likes\"]]"
   ]
  },
  {
   "cell_type": "code",
   "execution_count": 559,
   "metadata": {},
   "outputs": [
    {
     "name": "stderr",
     "output_type": "stream",
     "text": [
      "C:\\Users\\renat\\AppData\\Local\\Temp\\ipykernel_13032\\2917183656.py:3: SettingWithCopyWarning: \n",
      "A value is trying to be set on a copy of a slice from a DataFrame.\n",
      "Try using .loc[row_indexer,col_indexer] = value instead\n",
      "\n",
      "See the caveats in the documentation: https://pandas.pydata.org/pandas-docs/stable/user_guide/indexing.html#returning-a-view-versus-a-copy\n",
      "  y['likes'] = pd.cut(y['likes'], bins=bins, labels=labels, right=True)\n"
     ]
    }
   ],
   "source": [
    "bins = [-1,5.850000e+02,2.893000e+03,1.237400e+04,4.924057e+06]\n",
    "labels = ['Bajo', 'Medio', 'Alto','Muy Alto']\n",
    "y['likes'] = pd.cut(y['likes'], bins=bins, labels=labels, right=True)\n"
   ]
  },
  {
   "cell_type": "code",
   "execution_count": 560,
   "metadata": {},
   "outputs": [
    {
     "name": "stderr",
     "output_type": "stream",
     "text": [
      "C:\\Users\\renat\\AppData\\Local\\Temp\\ipykernel_13032\\2895299652.py:3: SettingWithCopyWarning: \n",
      "A value is trying to be set on a copy of a slice from a DataFrame.\n",
      "Try using .loc[row_indexer,col_indexer] = value instead\n",
      "\n",
      "See the caveats in the documentation: https://pandas.pydata.org/pandas-docs/stable/user_guide/indexing.html#returning-a-view-versus-a-copy\n",
      "  x['views'] = pd.cut(x['views'], bins=bins, labels=labels, right=True)\n"
     ]
    }
   ],
   "source": [
    "bins = [-1,2.804275e+04,1.236011e+05,4.538991e+05,1.138763e+08]\n",
    "labels = ['Bajo', 'Medio', 'Alto','Muy Alto']\n",
    "x['views'] = pd.cut(x['views'], bins=bins, labels=labels, right=True)"
   ]
  },
  {
   "cell_type": "code",
   "execution_count": 561,
   "metadata": {},
   "outputs": [
    {
     "name": "stderr",
     "output_type": "stream",
     "text": [
      "C:\\Users\\renat\\AppData\\Local\\Temp\\ipykernel_13032\\4088793198.py:3: SettingWithCopyWarning: \n",
      "A value is trying to be set on a copy of a slice from a DataFrame.\n",
      "Try using .loc[row_indexer,col_indexer] = value instead\n",
      "\n",
      "See the caveats in the documentation: https://pandas.pydata.org/pandas-docs/stable/user_guide/indexing.html#returning-a-view-versus-a-copy\n",
      "  x['dislikes'] = pd.cut(x['dislikes'], bins=bins, labels=labels, right=True)\n"
     ]
    }
   ],
   "source": [
    "bins = [-1,3.100000e+01,1.410000e+02,5.490000e+02,1.470387e+06]\n",
    "labels = ['Bajo', 'Medio', 'Alto','Muy Alto']\n",
    "x['dislikes'] = pd.cut(x['dislikes'], bins=bins, labels=labels, right=True)"
   ]
  },
  {
   "cell_type": "code",
   "execution_count": 562,
   "metadata": {},
   "outputs": [
    {
     "name": "stderr",
     "output_type": "stream",
     "text": [
      "C:\\Users\\renat\\AppData\\Local\\Temp\\ipykernel_13032\\749167574.py:3: SettingWithCopyWarning: \n",
      "A value is trying to be set on a copy of a slice from a DataFrame.\n",
      "Try using .loc[row_indexer,col_indexer] = value instead\n",
      "\n",
      "See the caveats in the documentation: https://pandas.pydata.org/pandas-docs/stable/user_guide/indexing.html#returning-a-view-versus-a-copy\n",
      "  x['comment_count'] = pd.cut(x['comment_count'], bins=bins, labels=labels, right=True)\n"
     ]
    }
   ],
   "source": [
    "bins = [-1,8.500000e+01,3.950000e+02,1.428000e+03,1.084435e+06]\n",
    "labels = ['Bajo', 'Medio', 'Alto','Muy Alto']\n",
    "x['comment_count'] = pd.cut(x['comment_count'], bins=bins, labels=labels, right=True)"
   ]
  },
  {
   "cell_type": "code",
   "execution_count": 620,
   "metadata": {},
   "outputs": [],
   "source": [
    "def trasnform_polarity(sent):\n",
    "    sent=str(sent)\n",
    "    if sent==\"Positivo\":\n",
    "        return 1\n",
    "    elif sent ==\"Neutral\":\n",
    "        return 0\n",
    "    else:\n",
    "        return -1"
   ]
  },
  {
   "cell_type": "code",
   "execution_count": 621,
   "metadata": {},
   "outputs": [
    {
     "name": "stderr",
     "output_type": "stream",
     "text": [
      "C:\\Users\\renat\\AppData\\Local\\Temp\\ipykernel_13032\\3164623657.py:1: SettingWithCopyWarning: \n",
      "A value is trying to be set on a copy of a slice from a DataFrame.\n",
      "Try using .loc[row_indexer,col_indexer] = value instead\n",
      "\n",
      "See the caveats in the documentation: https://pandas.pydata.org/pandas-docs/stable/user_guide/indexing.html#returning-a-view-versus-a-copy\n",
      "  x['title_polarity']=x['title_polarity'].apply(trasnform_polarity)\n",
      "C:\\Users\\renat\\AppData\\Local\\Temp\\ipykernel_13032\\3164623657.py:2: SettingWithCopyWarning: \n",
      "A value is trying to be set on a copy of a slice from a DataFrame.\n",
      "Try using .loc[row_indexer,col_indexer] = value instead\n",
      "\n",
      "See the caveats in the documentation: https://pandas.pydata.org/pandas-docs/stable/user_guide/indexing.html#returning-a-view-versus-a-copy\n",
      "  x['description_polarity']=x['description_polarity'].apply(trasnform_polarity)\n"
     ]
    }
   ],
   "source": [
    "x['title_polarity']=x['title_polarity'].apply(trasnform_polarity)\n",
    "x['description_polarity']=x['description_polarity'].apply(trasnform_polarity)"
   ]
  },
  {
   "cell_type": "code",
   "execution_count": 629,
   "metadata": {},
   "outputs": [],
   "source": [
    "X=np.array(x.values)\n",
    "Y=np.array(y.values)\n",
    "X=X/1\n",
    "Y=Y.ravel()\n",
    "X_train, X_val, y_train, y_val = train_test_split(X, Y, test_size=0.2, random_state=42)"
   ]
  },
  {
   "cell_type": "code",
   "execution_count": 633,
   "metadata": {},
   "outputs": [],
   "source": [
    "model = RandomForestRegressor(n_estimators=200, max_depth=15, random_state=42)"
   ]
  },
  {
   "cell_type": "code",
   "execution_count": 634,
   "metadata": {},
   "outputs": [
    {
     "data": {
      "text/html": [
       "<style>#sk-container-id-17 {color: black;}#sk-container-id-17 pre{padding: 0;}#sk-container-id-17 div.sk-toggleable {background-color: white;}#sk-container-id-17 label.sk-toggleable__label {cursor: pointer;display: block;width: 100%;margin-bottom: 0;padding: 0.3em;box-sizing: border-box;text-align: center;}#sk-container-id-17 label.sk-toggleable__label-arrow:before {content: \"▸\";float: left;margin-right: 0.25em;color: #696969;}#sk-container-id-17 label.sk-toggleable__label-arrow:hover:before {color: black;}#sk-container-id-17 div.sk-estimator:hover label.sk-toggleable__label-arrow:before {color: black;}#sk-container-id-17 div.sk-toggleable__content {max-height: 0;max-width: 0;overflow: hidden;text-align: left;background-color: #f0f8ff;}#sk-container-id-17 div.sk-toggleable__content pre {margin: 0.2em;color: black;border-radius: 0.25em;background-color: #f0f8ff;}#sk-container-id-17 input.sk-toggleable__control:checked~div.sk-toggleable__content {max-height: 200px;max-width: 100%;overflow: auto;}#sk-container-id-17 input.sk-toggleable__control:checked~label.sk-toggleable__label-arrow:before {content: \"▾\";}#sk-container-id-17 div.sk-estimator input.sk-toggleable__control:checked~label.sk-toggleable__label {background-color: #d4ebff;}#sk-container-id-17 div.sk-label input.sk-toggleable__control:checked~label.sk-toggleable__label {background-color: #d4ebff;}#sk-container-id-17 input.sk-hidden--visually {border: 0;clip: rect(1px 1px 1px 1px);clip: rect(1px, 1px, 1px, 1px);height: 1px;margin: -1px;overflow: hidden;padding: 0;position: absolute;width: 1px;}#sk-container-id-17 div.sk-estimator {font-family: monospace;background-color: #f0f8ff;border: 1px dotted black;border-radius: 0.25em;box-sizing: border-box;margin-bottom: 0.5em;}#sk-container-id-17 div.sk-estimator:hover {background-color: #d4ebff;}#sk-container-id-17 div.sk-parallel-item::after {content: \"\";width: 100%;border-bottom: 1px solid gray;flex-grow: 1;}#sk-container-id-17 div.sk-label:hover label.sk-toggleable__label {background-color: #d4ebff;}#sk-container-id-17 div.sk-serial::before {content: \"\";position: absolute;border-left: 1px solid gray;box-sizing: border-box;top: 0;bottom: 0;left: 50%;z-index: 0;}#sk-container-id-17 div.sk-serial {display: flex;flex-direction: column;align-items: center;background-color: white;padding-right: 0.2em;padding-left: 0.2em;position: relative;}#sk-container-id-17 div.sk-item {position: relative;z-index: 1;}#sk-container-id-17 div.sk-parallel {display: flex;align-items: stretch;justify-content: center;background-color: white;position: relative;}#sk-container-id-17 div.sk-item::before, #sk-container-id-17 div.sk-parallel-item::before {content: \"\";position: absolute;border-left: 1px solid gray;box-sizing: border-box;top: 0;bottom: 0;left: 50%;z-index: -1;}#sk-container-id-17 div.sk-parallel-item {display: flex;flex-direction: column;z-index: 1;position: relative;background-color: white;}#sk-container-id-17 div.sk-parallel-item:first-child::after {align-self: flex-end;width: 50%;}#sk-container-id-17 div.sk-parallel-item:last-child::after {align-self: flex-start;width: 50%;}#sk-container-id-17 div.sk-parallel-item:only-child::after {width: 0;}#sk-container-id-17 div.sk-dashed-wrapped {border: 1px dashed gray;margin: 0 0.4em 0.5em 0.4em;box-sizing: border-box;padding-bottom: 0.4em;background-color: white;}#sk-container-id-17 div.sk-label label {font-family: monospace;font-weight: bold;display: inline-block;line-height: 1.2em;}#sk-container-id-17 div.sk-label-container {text-align: center;}#sk-container-id-17 div.sk-container {/* jupyter's `normalize.less` sets `[hidden] { display: none; }` but bootstrap.min.css set `[hidden] { display: none !important; }` so we also need the `!important` here to be able to override the default hidden behavior on the sphinx rendered scikit-learn.org. See: https://github.com/scikit-learn/scikit-learn/issues/21755 */display: inline-block !important;position: relative;}#sk-container-id-17 div.sk-text-repr-fallback {display: none;}</style><div id=\"sk-container-id-17\" class=\"sk-top-container\"><div class=\"sk-text-repr-fallback\"><pre>RandomForestRegressor(max_depth=15, n_estimators=200, random_state=42)</pre><b>In a Jupyter environment, please rerun this cell to show the HTML representation or trust the notebook. <br />On GitHub, the HTML representation is unable to render, please try loading this page with nbviewer.org.</b></div><div class=\"sk-container\" hidden><div class=\"sk-item\"><div class=\"sk-estimator sk-toggleable\"><input class=\"sk-toggleable__control sk-hidden--visually\" id=\"sk-estimator-id-17\" type=\"checkbox\" checked><label for=\"sk-estimator-id-17\" class=\"sk-toggleable__label sk-toggleable__label-arrow\">RandomForestRegressor</label><div class=\"sk-toggleable__content\"><pre>RandomForestRegressor(max_depth=15, n_estimators=200, random_state=42)</pre></div></div></div></div></div>"
      ],
      "text/plain": [
       "RandomForestRegressor(max_depth=15, n_estimators=200, random_state=42)"
      ]
     },
     "execution_count": 634,
     "metadata": {},
     "output_type": "execute_result"
    }
   ],
   "source": [
    "model.fit(X_train, y_train)"
   ]
  },
  {
   "cell_type": "code",
   "execution_count": 640,
   "metadata": {},
   "outputs": [
    {
     "data": {
      "text/plain": [
       "3015.7651686435042"
      ]
     },
     "execution_count": 640,
     "metadata": {},
     "output_type": "execute_result"
    }
   ],
   "source": [
    "y_pred = model.predict(X_val)\n",
    "y_pred[0]"
   ]
  },
  {
   "cell_type": "code",
   "execution_count": 638,
   "metadata": {},
   "outputs": [
    {
     "name": "stdout",
     "output_type": "stream",
     "text": [
      "Mse: 640599280.2234567\n"
     ]
    }
   ],
   "source": [
    "y_pred = model.predict(X_val)\n",
    "mse = mean_squared_error(y_val, y_pred)\n",
    "print(\"Mse:\", mse)"
   ]
  },
  {
   "cell_type": "markdown",
   "metadata": {},
   "source": [
    "Modelo basado en redes neuronales"
   ]
  },
  {
   "cell_type": "code",
   "execution_count": 641,
   "metadata": {},
   "outputs": [],
   "source": [
    "import tensorflow as tf\n",
    "from tensorflow import keras"
   ]
  },
  {
   "cell_type": "code",
   "execution_count": 650,
   "metadata": {},
   "outputs": [],
   "source": [
    "x = df[['views', 'dislikes', 'comment_count', 'title_polarity', 'description_polarity', 'category_1', 'category_2', 'category_10', 'category_15', 'category_17', 'category_19', 'category_20', 'category_22', 'category_23', 'category_24', 'category_25', 'category_26', 'category_27', 'category_28', 'category_29', 'category_30', 'category_43', 'category_44',\"state_Baden Wurttemberg\",\"state_Bayern\",\"state_Berlin\",\"state_Brandenburg\",\"state_Bremen\",\"state_Hamburg\",\"state_Hessen\",\"state_Mecklenburg Vorpommern\",\"state_Niedersachsen\",\"state_Nordrhein Westfalen\",\"state_Rheinland Pfalz\",\"state_Saarland\",\"state_Sachsen\",\"state_Sachsen Anhalt\",\"state_Schleswig Holstein\",\"state_Thuringen\"]]\n",
    "y = df[[\"likes\"]]"
   ]
  },
  {
   "cell_type": "code",
   "execution_count": null,
   "metadata": {},
   "outputs": [],
   "source": [
    "bins = [-1,2.804275e+04,1.236011e+05,4.538991e+05,1.138763e+08]\n",
    "labels = ['Bajo', 'Medio', 'Alto','Muy Alto']\n",
    "x['views'] = pd.cut(x['views'], bins=bins, labels=labels, right=True)\n",
    "bins = [-1,5.850000e+02,2.893000e+03,1.237400e+04,4.924057e+06]\n",
    "labels = ['Bajo', 'Medio', 'Alto','Muy Alto']\n",
    "y['likes'] = pd.cut(y['likes'], bins=bins, labels=labels, right=True)\n",
    "bins = [-1,3.100000e+01,1.410000e+02,5.490000e+02,1.470387e+06]\n",
    "labels = ['Bajo', 'Medio', 'Alto','Muy Alto']\n",
    "x['dislikes'] = pd.cut(x['dislikes'], bins=bins, labels=labels, right=True)\n",
    "bins = [-1,8.500000e+01,3.950000e+02,1.428000e+03,1.084435e+06]\n",
    "labels = ['Bajo', 'Medio', 'Alto','Muy Alto']\n",
    "x['comment_count'] = pd.cut(x['comment_count'], bins=bins, labels=labels, right=True)"
   ]
  },
  {
   "cell_type": "code",
   "execution_count": null,
   "metadata": {},
   "outputs": [],
   "source": [
    "x['title_polarity']=x['title_polarity'].apply(trasnform_polarity)\n",
    "x['description_polarity']=x['description_polarity'].apply(trasnform_polarity)"
   ]
  },
  {
   "cell_type": "code",
   "execution_count": 653,
   "metadata": {},
   "outputs": [],
   "source": [
    "x= pd.get_dummies(x, columns=['views'], prefix='views')\n",
    "x= pd.get_dummies(x, columns=['dislikes'], prefix='dislikes')\n",
    "x= pd.get_dummies(x, columns=['comment_count'], prefix='comment_count')\n",
    "y=pd.get_dummies(y,columns=['likes'], prefix='likes')"
   ]
  },
  {
   "cell_type": "code",
   "execution_count": 657,
   "metadata": {},
   "outputs": [],
   "source": [
    "X=np.array(x.values)\n",
    "Y=np.array(y.values)\n",
    "X=X/1\n",
    "Y=Y/1\n",
    "X_train, X_val, y_train, y_val = train_test_split(X, Y, test_size=0.2, random_state=42)\n",
    "X_train=X_train.tolist()\n",
    "y_train=y_train.tolist()"
   ]
  },
  {
   "cell_type": "code",
   "execution_count": 658,
   "metadata": {},
   "outputs": [],
   "source": [
    "model2 = keras.Sequential()\n",
    "model2.add(keras.layers.Input(shape=(48,)))\n",
    "model2.add(keras.layers.Dense(100, activation='relu'))\n",
    "model2.add(keras.layers.Dense(4, activation='softmax'))\n",
    "model2.compile(optimizer='adam', loss='categorical_crossentropy', metrics=['accuracy'])"
   ]
  },
  {
   "cell_type": "code",
   "execution_count": 659,
   "metadata": {},
   "outputs": [
    {
     "name": "stdout",
     "output_type": "stream",
     "text": [
      "Epoch 1/70\n",
      "983/983 [==============================] - 3s 2ms/step - loss: 0.7083 - accuracy: 0.6953\n",
      "Epoch 2/70\n",
      "983/983 [==============================] - 2s 2ms/step - loss: 0.6363 - accuracy: 0.7247\n",
      "Epoch 3/70\n",
      "983/983 [==============================] - 2s 2ms/step - loss: 0.6250 - accuracy: 0.7303\n",
      "Epoch 4/70\n",
      "983/983 [==============================] - 2s 2ms/step - loss: 0.6161 - accuracy: 0.7342\n",
      "Epoch 5/70\n",
      "983/983 [==============================] - 2s 2ms/step - loss: 0.6094 - accuracy: 0.7351\n",
      "Epoch 6/70\n",
      "983/983 [==============================] - 2s 2ms/step - loss: 0.6043 - accuracy: 0.7374\n",
      "Epoch 7/70\n",
      "983/983 [==============================] - 2s 2ms/step - loss: 0.6004 - accuracy: 0.7400\n",
      "Epoch 8/70\n",
      "983/983 [==============================] - 2s 2ms/step - loss: 0.5970 - accuracy: 0.7415\n",
      "Epoch 9/70\n",
      "983/983 [==============================] - 2s 2ms/step - loss: 0.5942 - accuracy: 0.7420\n",
      "Epoch 10/70\n",
      "983/983 [==============================] - 2s 2ms/step - loss: 0.5908 - accuracy: 0.7436\n",
      "Epoch 11/70\n",
      "983/983 [==============================] - 2s 2ms/step - loss: 0.5887 - accuracy: 0.7442\n",
      "Epoch 12/70\n",
      "983/983 [==============================] - 2s 2ms/step - loss: 0.5860 - accuracy: 0.7445\n",
      "Epoch 13/70\n",
      "983/983 [==============================] - 2s 2ms/step - loss: 0.5847 - accuracy: 0.7462\n",
      "Epoch 14/70\n",
      "983/983 [==============================] - 2s 2ms/step - loss: 0.5831 - accuracy: 0.7467\n",
      "Epoch 15/70\n",
      "983/983 [==============================] - 2s 2ms/step - loss: 0.5806 - accuracy: 0.7474\n",
      "Epoch 16/70\n",
      "983/983 [==============================] - 2s 2ms/step - loss: 0.5796 - accuracy: 0.7481\n",
      "Epoch 17/70\n",
      "983/983 [==============================] - 2s 2ms/step - loss: 0.5779 - accuracy: 0.7486\n",
      "Epoch 18/70\n",
      "983/983 [==============================] - 2s 2ms/step - loss: 0.5767 - accuracy: 0.7493\n",
      "Epoch 19/70\n",
      "983/983 [==============================] - 2s 2ms/step - loss: 0.5755 - accuracy: 0.7486\n",
      "Epoch 20/70\n",
      "983/983 [==============================] - 2s 2ms/step - loss: 0.5736 - accuracy: 0.7520\n",
      "Epoch 21/70\n",
      "983/983 [==============================] - 2s 2ms/step - loss: 0.5728 - accuracy: 0.7511\n",
      "Epoch 22/70\n",
      "983/983 [==============================] - 2s 2ms/step - loss: 0.5715 - accuracy: 0.7521\n",
      "Epoch 23/70\n",
      "983/983 [==============================] - 2s 2ms/step - loss: 0.5702 - accuracy: 0.7535\n",
      "Epoch 24/70\n",
      "983/983 [==============================] - 2s 2ms/step - loss: 0.5694 - accuracy: 0.7526\n",
      "Epoch 25/70\n",
      "983/983 [==============================] - 2s 2ms/step - loss: 0.5687 - accuracy: 0.7538\n",
      "Epoch 26/70\n",
      "983/983 [==============================] - 3s 3ms/step - loss: 0.5679 - accuracy: 0.7530\n",
      "Epoch 27/70\n",
      "983/983 [==============================] - 2s 2ms/step - loss: 0.5668 - accuracy: 0.7533\n",
      "Epoch 28/70\n",
      "983/983 [==============================] - 2s 2ms/step - loss: 0.5656 - accuracy: 0.7546\n",
      "Epoch 29/70\n",
      "983/983 [==============================] - 2s 2ms/step - loss: 0.5654 - accuracy: 0.7548\n",
      "Epoch 30/70\n",
      "983/983 [==============================] - 2s 2ms/step - loss: 0.5637 - accuracy: 0.7547\n",
      "Epoch 31/70\n",
      "983/983 [==============================] - 2s 2ms/step - loss: 0.5639 - accuracy: 0.7557\n",
      "Epoch 32/70\n",
      "983/983 [==============================] - 2s 2ms/step - loss: 0.5623 - accuracy: 0.7548\n",
      "Epoch 33/70\n",
      "983/983 [==============================] - 2s 2ms/step - loss: 0.5612 - accuracy: 0.7565\n",
      "Epoch 34/70\n",
      "983/983 [==============================] - 2s 2ms/step - loss: 0.5608 - accuracy: 0.7574\n",
      "Epoch 35/70\n",
      "983/983 [==============================] - 2s 2ms/step - loss: 0.5600 - accuracy: 0.7563\n",
      "Epoch 36/70\n",
      "983/983 [==============================] - 2s 2ms/step - loss: 0.5594 - accuracy: 0.7569\n",
      "Epoch 37/70\n",
      "983/983 [==============================] - 2s 2ms/step - loss: 0.5588 - accuracy: 0.7585\n",
      "Epoch 38/70\n",
      "983/983 [==============================] - 2s 2ms/step - loss: 0.5585 - accuracy: 0.7563\n",
      "Epoch 39/70\n",
      "983/983 [==============================] - 2s 2ms/step - loss: 0.5567 - accuracy: 0.7582\n",
      "Epoch 40/70\n",
      "983/983 [==============================] - 2s 2ms/step - loss: 0.5566 - accuracy: 0.7583\n",
      "Epoch 41/70\n",
      "983/983 [==============================] - 2s 2ms/step - loss: 0.5559 - accuracy: 0.7583\n",
      "Epoch 42/70\n",
      "983/983 [==============================] - 2s 2ms/step - loss: 0.5552 - accuracy: 0.7598\n",
      "Epoch 43/70\n",
      "983/983 [==============================] - 2s 2ms/step - loss: 0.5545 - accuracy: 0.7586\n",
      "Epoch 44/70\n",
      "983/983 [==============================] - 2s 2ms/step - loss: 0.5538 - accuracy: 0.7587\n",
      "Epoch 45/70\n",
      "983/983 [==============================] - 2s 2ms/step - loss: 0.5536 - accuracy: 0.7594\n",
      "Epoch 46/70\n",
      "983/983 [==============================] - 2s 2ms/step - loss: 0.5530 - accuracy: 0.7604\n",
      "Epoch 47/70\n",
      "983/983 [==============================] - 2s 2ms/step - loss: 0.5520 - accuracy: 0.7600\n",
      "Epoch 48/70\n",
      "983/983 [==============================] - 2s 2ms/step - loss: 0.5514 - accuracy: 0.7599\n",
      "Epoch 49/70\n",
      "983/983 [==============================] - 2s 2ms/step - loss: 0.5511 - accuracy: 0.7611\n",
      "Epoch 50/70\n",
      "983/983 [==============================] - 2s 2ms/step - loss: 0.5508 - accuracy: 0.7600\n",
      "Epoch 51/70\n",
      "983/983 [==============================] - 2s 2ms/step - loss: 0.5498 - accuracy: 0.7608\n",
      "Epoch 52/70\n",
      "983/983 [==============================] - 2s 2ms/step - loss: 0.5502 - accuracy: 0.7599\n",
      "Epoch 53/70\n",
      "983/983 [==============================] - 2s 2ms/step - loss: 0.5482 - accuracy: 0.7617\n",
      "Epoch 54/70\n",
      "983/983 [==============================] - 2s 2ms/step - loss: 0.5486 - accuracy: 0.7591\n",
      "Epoch 55/70\n",
      "983/983 [==============================] - 2s 2ms/step - loss: 0.5472 - accuracy: 0.7609\n",
      "Epoch 56/70\n",
      "983/983 [==============================] - 2s 2ms/step - loss: 0.5471 - accuracy: 0.7626\n",
      "Epoch 57/70\n",
      "983/983 [==============================] - 2s 2ms/step - loss: 0.5474 - accuracy: 0.7611\n",
      "Epoch 58/70\n",
      "983/983 [==============================] - 2s 2ms/step - loss: 0.5466 - accuracy: 0.7597\n",
      "Epoch 59/70\n",
      "983/983 [==============================] - 2s 2ms/step - loss: 0.5459 - accuracy: 0.7637\n",
      "Epoch 60/70\n",
      "983/983 [==============================] - 2s 2ms/step - loss: 0.5454 - accuracy: 0.7633\n",
      "Epoch 61/70\n",
      "983/983 [==============================] - 2s 2ms/step - loss: 0.5451 - accuracy: 0.7626\n",
      "Epoch 62/70\n",
      "983/983 [==============================] - 2s 2ms/step - loss: 0.5444 - accuracy: 0.7618\n",
      "Epoch 63/70\n",
      "983/983 [==============================] - 2s 2ms/step - loss: 0.5440 - accuracy: 0.7633\n",
      "Epoch 64/70\n",
      "983/983 [==============================] - 2s 2ms/step - loss: 0.5443 - accuracy: 0.7639\n",
      "Epoch 65/70\n",
      "983/983 [==============================] - 2s 2ms/step - loss: 0.5427 - accuracy: 0.7626\n",
      "Epoch 66/70\n",
      "983/983 [==============================] - 2s 2ms/step - loss: 0.5432 - accuracy: 0.7633\n",
      "Epoch 67/70\n",
      "983/983 [==============================] - 2s 2ms/step - loss: 0.5426 - accuracy: 0.7640\n",
      "Epoch 68/70\n",
      "983/983 [==============================] - 2s 2ms/step - loss: 0.5423 - accuracy: 0.7643\n",
      "Epoch 69/70\n",
      "983/983 [==============================] - 2s 2ms/step - loss: 0.5423 - accuracy: 0.7634\n",
      "Epoch 70/70\n",
      "983/983 [==============================] - 2s 2ms/step - loss: 0.5415 - accuracy: 0.7646\n"
     ]
    },
    {
     "data": {
      "text/plain": [
       "<keras.callbacks.History at 0x21af08cec50>"
      ]
     },
     "execution_count": 659,
     "metadata": {},
     "output_type": "execute_result"
    }
   ],
   "source": [
    "model2.fit(X_train, y_train, epochs=70, batch_size=32)"
   ]
  },
  {
   "cell_type": "code",
   "execution_count": 660,
   "metadata": {},
   "outputs": [
    {
     "name": "stdout",
     "output_type": "stream",
     "text": [
      "246/246 [==============================] - 1s 2ms/step - loss: 0.6503 - accuracy: 0.7181\n",
      "0.7181216478347778\n"
     ]
    }
   ],
   "source": [
    "test_loss, test_accuracy = model2.evaluate(X_val.tolist(),y_val.tolist())\n",
    "print(test_accuracy)"
   ]
  },
  {
   "cell_type": "code",
   "execution_count": 664,
   "metadata": {},
   "outputs": [],
   "source": [
    "X_train=np.array(X_train)"
   ]
  },
  {
   "cell_type": "code",
   "execution_count": 661,
   "metadata": {},
   "outputs": [],
   "source": [
    "categorias={\n",
    "    0:\"Bajo\",\n",
    "    1:\"Medio\",\n",
    "    2:\"Alto\",\n",
    "    3:\"Muy Alto\"\n",
    "}"
   ]
  },
  {
   "cell_type": "code",
   "execution_count": 665,
   "metadata": {},
   "outputs": [
    {
     "name": "stdout",
     "output_type": "stream",
     "text": [
      "1/1 [==============================] - 0s 156ms/step\n",
      "Alto\n"
     ]
    }
   ],
   "source": [
    "predict1=model2.predict(X_train[0].reshape(1,48))\n",
    "categoria = np.argmax(predict1)\n",
    "print(categorias[categoria])"
   ]
  }
 ],
 "metadata": {
  "kernelspec": {
   "display_name": "Python 3",
   "language": "python",
   "name": "python3"
  },
  "language_info": {
   "codemirror_mode": {
    "name": "ipython",
    "version": 3
   },
   "file_extension": ".py",
   "mimetype": "text/x-python",
   "name": "python",
   "nbconvert_exporter": "python",
   "pygments_lexer": "ipython3",
   "version": "3.11.4"
  }
 },
 "nbformat": 4,
 "nbformat_minor": 2
}
